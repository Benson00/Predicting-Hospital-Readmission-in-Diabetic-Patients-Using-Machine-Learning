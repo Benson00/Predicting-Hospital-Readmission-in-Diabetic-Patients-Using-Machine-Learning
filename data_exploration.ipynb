{
 "cells": [
  {
   "cell_type": "code",
   "execution_count": 2,
   "id": "89b12cdd",
   "metadata": {},
   "outputs": [],
   "source": [
    "import pandas as pdb\n",
    "import numpy as np"
   ]
  },
  {
   "cell_type": "code",
   "execution_count": 4,
   "id": "2a085715",
   "metadata": {},
   "outputs": [
    {
     "name": "stdout",
     "output_type": "stream",
     "text": [
      "<class 'pandas.core.frame.DataFrame'>\n",
      "RangeIndex: 16282 entries, 0 to 16281\n",
      "Data columns (total 31 columns):\n",
      " #   Column                    Non-Null Count  Dtype\n",
      "---  ------                    --------------  -----\n",
      " 0   admission_type_id         16282 non-null  int64\n",
      " 1   discharge_disposition_id  16282 non-null  int64\n",
      " 2   admission_source_id       16282 non-null  int64\n",
      " 3   time_in_hospital          16282 non-null  int64\n",
      " 4   num_lab_procedures        16282 non-null  int64\n",
      " 5   num_procedures            16282 non-null  int64\n",
      " 6   num_medications           16282 non-null  int64\n",
      " 7   number_outpatient         16282 non-null  int64\n",
      " 8   number_emergency          16282 non-null  int64\n",
      " 9   number_inpatient          16282 non-null  int64\n",
      " 10  number_diagnoses          16282 non-null  int64\n",
      " 11  race_AfricanAmerican      16282 non-null  bool \n",
      " 12  race_Caucasian            16282 non-null  bool \n",
      " 13  gender_Female             16282 non-null  bool \n",
      " 14  gender_Male               16282 non-null  bool \n",
      " 15  age_[40-50)               16282 non-null  bool \n",
      " 16  age_[50-60)               16282 non-null  bool \n",
      " 17  age_[60-70)               16282 non-null  bool \n",
      " 18  age_[70-80)               16282 non-null  bool \n",
      " 19  age_[80-90)               16282 non-null  bool \n",
      " 20  metformin_No              16282 non-null  bool \n",
      " 21  metformin_Steady          16282 non-null  bool \n",
      " 22  glipizide_No              16282 non-null  bool \n",
      " 23  glyburide_No              16282 non-null  bool \n",
      " 24  pioglitazone_No           16282 non-null  bool \n",
      " 25  rosiglitazone_No          16282 non-null  bool \n",
      " 26  insulin_No                16282 non-null  bool \n",
      " 27  insulin_Steady            16282 non-null  bool \n",
      " 28  change_Ch                 16282 non-null  bool \n",
      " 29  change_No                 16282 non-null  bool \n",
      " 30  target                    16282 non-null  int64\n",
      "dtypes: bool(19), int64(12)\n",
      "memory usage: 1.8 MB\n"
     ]
    }
   ],
   "source": [
    "data = pdb.read_csv('selected_features.csv')\n",
    "data.info()"
   ]
  }
 ],
 "metadata": {
  "kernelspec": {
   "display_name": "Python 3",
   "language": "python",
   "name": "python3"
  },
  "language_info": {
   "codemirror_mode": {
    "name": "ipython",
    "version": 3
   },
   "file_extension": ".py",
   "mimetype": "text/x-python",
   "name": "python",
   "nbconvert_exporter": "python",
   "pygments_lexer": "ipython3",
   "version": "3.9.2"
  }
 },
 "nbformat": 4,
 "nbformat_minor": 5
}
